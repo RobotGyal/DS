{
 "cells": [
  {
   "cell_type": "markdown",
   "metadata": {},
   "source": [
    "\n",
    "## Write Custom Function to Compute Histogram for a Numerical Array\n",
    "You can use numpy\n",
    "\n",
    "Your function takes two arguments: 1- list 2- interval\n",
    "\n",
    "Your function would return a dictionary with intervals as keys and how many of elements in list are in the intervals as values"
   ]
  },
  {
   "cell_type": "code",
   "execution_count": 5,
   "metadata": {},
   "outputs": [
    {
     "name": "stdout",
     "output_type": "stream",
     "text": [
      "{0.42: 44, 5.39375: 64, 10.3675: 83, 15.34125: 179, 20.315: 301, 25.28875: 409, 30.262500000000003: 497, 35.23625: 564, 40.21: 611, 45.18375: 650, 50.1575: 674, 55.13125: 692, 60.105000000000004: 706, 65.07875: 709, 70.0525: 713, 75.02625: 714}\n"
     ]
    }
   ],
   "source": [
    "import numpy as np\n",
    "import pandas as pd\n",
    "import matplotlib.pyplot as plt\n",
    "\n",
    "data = pd.read_csv('data/titanic.txt')\n",
    "\n",
    "def custom_hist(ls, interval):\n",
    "    hist_to_dict = dict()\n",
    "    new_dict = {}\n",
    "    min_ls = np.min(ls)\n",
    "    max_ls = np.max(ls)\n",
    "    I = (max_ls - min_ls) / interval  # represents each step\n",
    "    \n",
    "    for j in range(interval):\n",
    "        high = (min_ls + (j+1) *I)\n",
    "        low = (min_ls + j*I)\n",
    "        subset = np.sum((ls <= high))\n",
    "        hist_to_dict[low] = subset        \n",
    "    return hist_to_dict\n",
    "        \n",
    "\n",
    "age_data = custom_hist(data['Age'].dropna().values, 16)\n",
    "print(age_data)"
   ]
  },
  {
   "cell_type": "markdown",
   "metadata": {},
   "source": [
    "## Q2: How we can plot histogram of Age for female and male with legend?¶\n"
   ]
  },
  {
   "cell_type": "code",
   "execution_count": 6,
   "metadata": {},
   "outputs": [
    {
     "data": {
      "image/png": "[encoded data removed]",
      "text/plain": [
       "<Figure size 432x288 with 1 Axes>"
      ]
     },
     "metadata": {
      "needs_background": "light"
     },
     "output_type": "display_data"
    }
   ],
   "source": [
    "    plt.bar(age_data.keys(), age_data.values())\n",
    "    plt.show()"
   ]
  },
  {
   "cell_type": "code",
   "execution_count": null,
   "metadata": {},
   "outputs": [],
   "source": []
  }
 ],
 "metadata": {
  "kernelspec": {
   "display_name": "Python 3",
   "language": "python",
   "name": "python3"
  },
  "language_info": {
   "codemirror_mode": {
    "name": "ipython",
    "version": 3
   },
   "file_extension": ".py",
   "mimetype": "text/x-python",
   "name": "python",
   "nbconvert_exporter": "python",
   "pygments_lexer": "ipython3",
   "version": "3.7.6"
  }
 },
 "nbformat": 4,
 "nbformat_minor": 4
}
